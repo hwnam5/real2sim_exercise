{
  "cells": [
    {
      "cell_type": "code",
      "execution_count": 1,
      "id": "a4558c57",
      "metadata": {
        "colab": {
          "base_uri": "https://localhost:8080/"
        },
        "id": "a4558c57",
        "outputId": "6200f250-54a3-400e-8942-72d29592fae6"
      },
      "outputs": [
        {
          "output_type": "stream",
          "name": "stderr",
          "text": [
            "/usr/local/lib/python3.11/dist-packages/timm/models/layers/__init__.py:48: FutureWarning: Importing from timm.models.layers is deprecated, please import via timm.layers\n",
            "  warnings.warn(f\"Importing from {__name__} is deprecated, please import via timm.layers\", FutureWarning)\n"
          ]
        }
      ],
      "source": [
        "import seaborn as sns\n",
        "import torch\n",
        "import torch.nn as nn\n",
        "import torch.utils.checkpoint as checkpoint\n",
        "from torchvision import models\n",
        "from timm.models.layers import DropPath, to_2tuple, trunc_normal_\n",
        "import torch.nn.functional as F\n",
        "#from einops import rearrange, repeat\n",
        "#from einops.layers.torch import Rearrange\n",
        "import math\n",
        "import numpy as np\n",
        "import time\n",
        "from torch import einsum\n",
        "import cv2\n",
        "import scipy.misc\n",
        "#import utils\n",
        "import tqdm\n",
        "from tqdm import tqdm\n",
        "from sklearn.metrics import confusion_matrix, f1_score, recall_score, precision_score\n",
        "from sklearn.metrics import balanced_accuracy_score\n",
        "import matplotlib.pyplot as plt\n",
        "import pandas as pd"
      ]
    },
    {
      "cell_type": "code",
      "execution_count": 2,
      "id": "63c72e08",
      "metadata": {
        "colab": {
          "base_uri": "https://localhost:8080/"
        },
        "id": "63c72e08",
        "outputId": "ae4b2ab6-8860-4525-f102-80841e899698"
      },
      "outputs": [
        {
          "output_type": "stream",
          "name": "stdout",
          "text": [
            "   updown       UWB     vel_x     vel_y     vel_z   accel_x   accel_y  \\\n",
            "0       0  0.591120  0.444669 -0.467373 -0.315034  0.023474 -0.032762   \n",
            "1       0  0.573637  0.480935 -0.528851 -0.349580 -0.163544  0.073112   \n",
            "2       0  0.567564  0.402824 -0.462519 -0.375447  0.023747 -0.066839   \n",
            "3       0  0.549405  0.436299 -0.535916 -0.401144 -0.157985  0.071472   \n",
            "4       0  0.542702  0.360260 -0.461036 -0.426632 -0.003370  0.012905   \n",
            "\n",
            "    accel_z    gyro_x    gyro_y    gyro_z  \n",
            "0 -0.094302  0.133845  0.804320 -0.486455  \n",
            "1 -0.082049  0.149239  0.865470 -0.586657  \n",
            "2 -0.033649  0.073584  0.806644 -0.486584  \n",
            "3 -0.074418  0.248877  0.810755 -0.600475  \n",
            "4 -0.142077  0.133730  0.725031 -0.480376  \n"
          ]
        }
      ],
      "source": [
        "import pandas as pd\n",
        "\n",
        "file_path = \"sim_squat_data.csv\"\n",
        "\n",
        "df = pd.read_csv(file_path)\n",
        "\n",
        "print(df.head())"
      ]
    },
    {
      "cell_type": "code",
      "execution_count": 3,
      "id": "cfc6f3d1",
      "metadata": {
        "id": "cfc6f3d1"
      },
      "outputs": [],
      "source": [
        "df = df.drop(columns=['vel_x', 'vel_y', 'vel_z'])"
      ]
    },
    {
      "cell_type": "code",
      "execution_count": 4,
      "id": "1aa39651",
      "metadata": {
        "colab": {
          "base_uri": "https://localhost:8080/"
        },
        "id": "1aa39651",
        "outputId": "7f5fdc00-8ec7-48c0-e6a5-2fa501f52df2"
      },
      "outputs": [
        {
          "output_type": "stream",
          "name": "stdout",
          "text": [
            "Total squat ends: 3000\n",
            "Set too short: 120\n",
            "Total sets: 2999\n"
          ]
        }
      ],
      "source": [
        "tmp = df['updown'].shift(1).fillna(0)\n",
        "squat_ends = df[(tmp == 1) & (df['updown'] == 0)].index\n",
        "print(f\"Total squat ends: {len(squat_ends)}\")\n",
        "\n",
        "squat_sets = []\n",
        "\n",
        "start_index = 0\n",
        "for end_index in squat_ends:\n",
        "    one_set = df.iloc[start_index:end_index+1]\n",
        "\n",
        "    if len(one_set) > 120:\n",
        "        #one_set = one_set.tail(140)\n",
        "        squat_sets.append(one_set)\n",
        "    else:\n",
        "        print(f\"Set too short: {len(one_set)}\")\n",
        "\n",
        "    #squat_sets.append(one_set)\n",
        "    start_index = end_index + 1\n",
        "\n",
        "print(f\"Total sets: {len(squat_sets)}\")"
      ]
    },
    {
      "cell_type": "code",
      "execution_count": 5,
      "id": "6ce18b82",
      "metadata": {
        "colab": {
          "base_uri": "https://localhost:8080/"
        },
        "id": "6ce18b82",
        "outputId": "f069639a-8cca-45dc-d025-1a61726d2537"
      },
      "outputs": [
        {
          "output_type": "stream",
          "name": "stdout",
          "text": [
            "(70540, 15, 7) (70540,)\n"
          ]
        }
      ],
      "source": [
        "X = []\n",
        "y = []\n",
        "for one_set in squat_sets:\n",
        "    for i in range(9, len(one_set)-15, 5):\n",
        "        X.append(one_set.iloc[i-9:i+6, 1:].values)\n",
        "        y.append(one_set.iloc[i]['updown'])\n",
        "\n",
        "X = np.array(X)\n",
        "y = np.array(y)\n",
        "print(X.shape, y.shape)"
      ]
    },
    {
      "cell_type": "code",
      "execution_count": 6,
      "id": "c102666f",
      "metadata": {
        "id": "c102666f"
      },
      "outputs": [],
      "source": [
        "from sklearn.model_selection import train_test_split\n",
        "\n",
        "X_train, X_val, y_train, y_val = train_test_split(X, y, test_size=0.2, random_state=42)"
      ]
    },
    {
      "cell_type": "code",
      "execution_count": 7,
      "id": "f74e02f4",
      "metadata": {
        "id": "f74e02f4"
      },
      "outputs": [],
      "source": [
        "class biGRU(nn.Module):\n",
        "    def __init__(self, num_classes, input_size, hidden_size, num_layers, seq_length):\n",
        "        super(biGRU, self).__init__()\n",
        "        self.num_classes = num_classes\n",
        "        self.input_size = input_size\n",
        "        self.hidden_size = hidden_size\n",
        "        self.num_layers = num_layers\n",
        "        self.seq_length = seq_length\n",
        "\n",
        "        self.gru = nn.GRU(input_size=input_size,hidden_size=hidden_size,\n",
        "                         num_layers=num_layers, bidirectional=True, batch_first=True)\n",
        "        self.fc = nn.Linear(hidden_size*2, 1)\n",
        "\n",
        "    def forward(self, x):\n",
        "        h_0 = torch.zeros(self.num_layers*2, x.size(0), self.hidden_size).to(x.device)\n",
        "        #h_0 = torch.zeros(self.num_layers, x.size(0), self.hidden_size).to(x.device)\n",
        "        out, _ = self.gru(x, h_0)\n",
        "        out = self.fc(out[:, 10, :]) # 과거 10개, 현재 5개\n",
        "        #out = self.fc(out[:, -1, :]) # 과거 15개개\n",
        "\n",
        "        return out"
      ]
    },
    {
      "cell_type": "code",
      "execution_count": 8,
      "id": "1eb08dbe",
      "metadata": {
        "id": "1eb08dbe"
      },
      "outputs": [],
      "source": [
        "num_classes = 2\n",
        "input_size = 7\n",
        "hidden_size = 128\n",
        "num_layers = 2\n",
        "seq_length = 15\n",
        "\n",
        "device = torch.device(\"cuda\" if torch.cuda.is_available() else \"cpu\")"
      ]
    },
    {
      "cell_type": "code",
      "execution_count": 9,
      "id": "1ec15efd",
      "metadata": {
        "id": "1ec15efd"
      },
      "outputs": [],
      "source": [
        "import torch.nn.init as init\n",
        "import random\n",
        "\n",
        "def set_seed(seed=42):\n",
        "    random.seed(seed)\n",
        "    np.random.seed(seed)\n",
        "    torch.manual_seed(seed)\n",
        "    torch.cuda.manual_seed(seed)\n",
        "    torch.cuda.manual_seed_all(seed)\n",
        "    torch.backends.cudnn.deterministic = True\n",
        "    torch.backends.cudnn.benchmark = False\n",
        "\n",
        "def initialize_weights(m):\n",
        "    if isinstance(m, nn.Linear):\n",
        "        init.xavier_uniform_(m.weight)\n",
        "        if m.bias is not None:\n",
        "            init.constant_(m.bias, 0)\n",
        "    elif isinstance(m, (nn.BatchNorm1d, nn.BatchNorm2d)):\n",
        "        init.constant_(m.weight, 1)\n",
        "        init.constant_(m.bias, 0)\n",
        "\n",
        "def initialize_gru_weights(gru):\n",
        "    for name, param in gru.named_parameters():\n",
        "        if 'weight' in name:\n",
        "            init.xavier_uniform_(param.data)\n",
        "        elif 'bias' in name:\n",
        "            init.constant_(param.data, 0)\n",
        "\n",
        "# 초기화 실행\n",
        "set_seed(42)\n",
        "model = biGRU(num_classes, input_size, hidden_size, num_layers, seq_length).to(device)\n",
        "model.apply(initialize_weights)\n",
        "initialize_gru_weights(model.gru)"
      ]
    },
    {
      "cell_type": "code",
      "execution_count": 10,
      "id": "cff356a5",
      "metadata": {
        "colab": {
          "base_uri": "https://localhost:8080/",
          "height": 226
        },
        "id": "cff356a5",
        "outputId": "60e57145-c377-4356-d1b8-301abbf66e81"
      },
      "outputs": [
        {
          "output_type": "execute_result",
          "data": {
            "text/plain": [
              "        UWB   accel_x   accel_y   accel_z    gyro_x    gyro_y    gyro_z  \\\n",
              "0  0.723169  0.847622 -0.831826  1.067376 -1.483318  0.816265  0.329999   \n",
              "1  0.723169 -0.305767  0.605308  0.871359 -0.961083  0.751001  0.850115   \n",
              "2  0.795571 -0.305767  0.605308  0.871359 -0.961083  0.751001  0.850115   \n",
              "3  0.867973  2.503732 -0.901515  0.520150 -0.353930  0.990736  0.576363   \n",
              "4  0.766610  2.503732 -0.901515  0.520150 -0.353930  0.990736  0.576363   \n",
              "\n",
              "   updown  \n",
              "0       0  \n",
              "1       0  \n",
              "2       0  \n",
              "3       0  \n",
              "4       0  "
            ],
            "text/html": [
              "\n",
              "  <div id=\"df-c7551a11-3105-460e-9fcb-412edecd6bc6\" class=\"colab-df-container\">\n",
              "    <div>\n",
              "<style scoped>\n",
              "    .dataframe tbody tr th:only-of-type {\n",
              "        vertical-align: middle;\n",
              "    }\n",
              "\n",
              "    .dataframe tbody tr th {\n",
              "        vertical-align: top;\n",
              "    }\n",
              "\n",
              "    .dataframe thead th {\n",
              "        text-align: right;\n",
              "    }\n",
              "</style>\n",
              "<table border=\"1\" class=\"dataframe\">\n",
              "  <thead>\n",
              "    <tr style=\"text-align: right;\">\n",
              "      <th></th>\n",
              "      <th>UWB</th>\n",
              "      <th>accel_x</th>\n",
              "      <th>accel_y</th>\n",
              "      <th>accel_z</th>\n",
              "      <th>gyro_x</th>\n",
              "      <th>gyro_y</th>\n",
              "      <th>gyro_z</th>\n",
              "      <th>updown</th>\n",
              "    </tr>\n",
              "  </thead>\n",
              "  <tbody>\n",
              "    <tr>\n",
              "      <th>0</th>\n",
              "      <td>0.723169</td>\n",
              "      <td>0.847622</td>\n",
              "      <td>-0.831826</td>\n",
              "      <td>1.067376</td>\n",
              "      <td>-1.483318</td>\n",
              "      <td>0.816265</td>\n",
              "      <td>0.329999</td>\n",
              "      <td>0</td>\n",
              "    </tr>\n",
              "    <tr>\n",
              "      <th>1</th>\n",
              "      <td>0.723169</td>\n",
              "      <td>-0.305767</td>\n",
              "      <td>0.605308</td>\n",
              "      <td>0.871359</td>\n",
              "      <td>-0.961083</td>\n",
              "      <td>0.751001</td>\n",
              "      <td>0.850115</td>\n",
              "      <td>0</td>\n",
              "    </tr>\n",
              "    <tr>\n",
              "      <th>2</th>\n",
              "      <td>0.795571</td>\n",
              "      <td>-0.305767</td>\n",
              "      <td>0.605308</td>\n",
              "      <td>0.871359</td>\n",
              "      <td>-0.961083</td>\n",
              "      <td>0.751001</td>\n",
              "      <td>0.850115</td>\n",
              "      <td>0</td>\n",
              "    </tr>\n",
              "    <tr>\n",
              "      <th>3</th>\n",
              "      <td>0.867973</td>\n",
              "      <td>2.503732</td>\n",
              "      <td>-0.901515</td>\n",
              "      <td>0.520150</td>\n",
              "      <td>-0.353930</td>\n",
              "      <td>0.990736</td>\n",
              "      <td>0.576363</td>\n",
              "      <td>0</td>\n",
              "    </tr>\n",
              "    <tr>\n",
              "      <th>4</th>\n",
              "      <td>0.766610</td>\n",
              "      <td>2.503732</td>\n",
              "      <td>-0.901515</td>\n",
              "      <td>0.520150</td>\n",
              "      <td>-0.353930</td>\n",
              "      <td>0.990736</td>\n",
              "      <td>0.576363</td>\n",
              "      <td>0</td>\n",
              "    </tr>\n",
              "  </tbody>\n",
              "</table>\n",
              "</div>\n",
              "    <div class=\"colab-df-buttons\">\n",
              "\n",
              "  <div class=\"colab-df-container\">\n",
              "    <button class=\"colab-df-convert\" onclick=\"convertToInteractive('df-c7551a11-3105-460e-9fcb-412edecd6bc6')\"\n",
              "            title=\"Convert this dataframe to an interactive table.\"\n",
              "            style=\"display:none;\">\n",
              "\n",
              "  <svg xmlns=\"http://www.w3.org/2000/svg\" height=\"24px\" viewBox=\"0 -960 960 960\">\n",
              "    <path d=\"M120-120v-720h720v720H120Zm60-500h600v-160H180v160Zm220 220h160v-160H400v160Zm0 220h160v-160H400v160ZM180-400h160v-160H180v160Zm440 0h160v-160H620v160ZM180-180h160v-160H180v160Zm440 0h160v-160H620v160Z\"/>\n",
              "  </svg>\n",
              "    </button>\n",
              "\n",
              "  <style>\n",
              "    .colab-df-container {\n",
              "      display:flex;\n",
              "      gap: 12px;\n",
              "    }\n",
              "\n",
              "    .colab-df-convert {\n",
              "      background-color: #E8F0FE;\n",
              "      border: none;\n",
              "      border-radius: 50%;\n",
              "      cursor: pointer;\n",
              "      display: none;\n",
              "      fill: #1967D2;\n",
              "      height: 32px;\n",
              "      padding: 0 0 0 0;\n",
              "      width: 32px;\n",
              "    }\n",
              "\n",
              "    .colab-df-convert:hover {\n",
              "      background-color: #E2EBFA;\n",
              "      box-shadow: 0px 1px 2px rgba(60, 64, 67, 0.3), 0px 1px 3px 1px rgba(60, 64, 67, 0.15);\n",
              "      fill: #174EA6;\n",
              "    }\n",
              "\n",
              "    .colab-df-buttons div {\n",
              "      margin-bottom: 4px;\n",
              "    }\n",
              "\n",
              "    [theme=dark] .colab-df-convert {\n",
              "      background-color: #3B4455;\n",
              "      fill: #D2E3FC;\n",
              "    }\n",
              "\n",
              "    [theme=dark] .colab-df-convert:hover {\n",
              "      background-color: #434B5C;\n",
              "      box-shadow: 0px 1px 3px 1px rgba(0, 0, 0, 0.15);\n",
              "      filter: drop-shadow(0px 1px 2px rgba(0, 0, 0, 0.3));\n",
              "      fill: #FFFFFF;\n",
              "    }\n",
              "  </style>\n",
              "\n",
              "    <script>\n",
              "      const buttonEl =\n",
              "        document.querySelector('#df-c7551a11-3105-460e-9fcb-412edecd6bc6 button.colab-df-convert');\n",
              "      buttonEl.style.display =\n",
              "        google.colab.kernel.accessAllowed ? 'block' : 'none';\n",
              "\n",
              "      async function convertToInteractive(key) {\n",
              "        const element = document.querySelector('#df-c7551a11-3105-460e-9fcb-412edecd6bc6');\n",
              "        const dataTable =\n",
              "          await google.colab.kernel.invokeFunction('convertToInteractive',\n",
              "                                                    [key], {});\n",
              "        if (!dataTable) return;\n",
              "\n",
              "        const docLinkHtml = 'Like what you see? Visit the ' +\n",
              "          '<a target=\"_blank\" href=https://colab.research.google.com/notebooks/data_table.ipynb>data table notebook</a>'\n",
              "          + ' to learn more about interactive tables.';\n",
              "        element.innerHTML = '';\n",
              "        dataTable['output_type'] = 'display_data';\n",
              "        await google.colab.output.renderOutput(dataTable, element);\n",
              "        const docLink = document.createElement('div');\n",
              "        docLink.innerHTML = docLinkHtml;\n",
              "        element.appendChild(docLink);\n",
              "      }\n",
              "    </script>\n",
              "  </div>\n",
              "\n",
              "\n",
              "<div id=\"df-5567854a-6711-42ef-b70e-7ff2db373fa3\">\n",
              "  <button class=\"colab-df-quickchart\" onclick=\"quickchart('df-5567854a-6711-42ef-b70e-7ff2db373fa3')\"\n",
              "            title=\"Suggest charts\"\n",
              "            style=\"display:none;\">\n",
              "\n",
              "<svg xmlns=\"http://www.w3.org/2000/svg\" height=\"24px\"viewBox=\"0 0 24 24\"\n",
              "     width=\"24px\">\n",
              "    <g>\n",
              "        <path d=\"M19 3H5c-1.1 0-2 .9-2 2v14c0 1.1.9 2 2 2h14c1.1 0 2-.9 2-2V5c0-1.1-.9-2-2-2zM9 17H7v-7h2v7zm4 0h-2V7h2v10zm4 0h-2v-4h2v4z\"/>\n",
              "    </g>\n",
              "</svg>\n",
              "  </button>\n",
              "\n",
              "<style>\n",
              "  .colab-df-quickchart {\n",
              "      --bg-color: #E8F0FE;\n",
              "      --fill-color: #1967D2;\n",
              "      --hover-bg-color: #E2EBFA;\n",
              "      --hover-fill-color: #174EA6;\n",
              "      --disabled-fill-color: #AAA;\n",
              "      --disabled-bg-color: #DDD;\n",
              "  }\n",
              "\n",
              "  [theme=dark] .colab-df-quickchart {\n",
              "      --bg-color: #3B4455;\n",
              "      --fill-color: #D2E3FC;\n",
              "      --hover-bg-color: #434B5C;\n",
              "      --hover-fill-color: #FFFFFF;\n",
              "      --disabled-bg-color: #3B4455;\n",
              "      --disabled-fill-color: #666;\n",
              "  }\n",
              "\n",
              "  .colab-df-quickchart {\n",
              "    background-color: var(--bg-color);\n",
              "    border: none;\n",
              "    border-radius: 50%;\n",
              "    cursor: pointer;\n",
              "    display: none;\n",
              "    fill: var(--fill-color);\n",
              "    height: 32px;\n",
              "    padding: 0;\n",
              "    width: 32px;\n",
              "  }\n",
              "\n",
              "  .colab-df-quickchart:hover {\n",
              "    background-color: var(--hover-bg-color);\n",
              "    box-shadow: 0 1px 2px rgba(60, 64, 67, 0.3), 0 1px 3px 1px rgba(60, 64, 67, 0.15);\n",
              "    fill: var(--button-hover-fill-color);\n",
              "  }\n",
              "\n",
              "  .colab-df-quickchart-complete:disabled,\n",
              "  .colab-df-quickchart-complete:disabled:hover {\n",
              "    background-color: var(--disabled-bg-color);\n",
              "    fill: var(--disabled-fill-color);\n",
              "    box-shadow: none;\n",
              "  }\n",
              "\n",
              "  .colab-df-spinner {\n",
              "    border: 2px solid var(--fill-color);\n",
              "    border-color: transparent;\n",
              "    border-bottom-color: var(--fill-color);\n",
              "    animation:\n",
              "      spin 1s steps(1) infinite;\n",
              "  }\n",
              "\n",
              "  @keyframes spin {\n",
              "    0% {\n",
              "      border-color: transparent;\n",
              "      border-bottom-color: var(--fill-color);\n",
              "      border-left-color: var(--fill-color);\n",
              "    }\n",
              "    20% {\n",
              "      border-color: transparent;\n",
              "      border-left-color: var(--fill-color);\n",
              "      border-top-color: var(--fill-color);\n",
              "    }\n",
              "    30% {\n",
              "      border-color: transparent;\n",
              "      border-left-color: var(--fill-color);\n",
              "      border-top-color: var(--fill-color);\n",
              "      border-right-color: var(--fill-color);\n",
              "    }\n",
              "    40% {\n",
              "      border-color: transparent;\n",
              "      border-right-color: var(--fill-color);\n",
              "      border-top-color: var(--fill-color);\n",
              "    }\n",
              "    60% {\n",
              "      border-color: transparent;\n",
              "      border-right-color: var(--fill-color);\n",
              "    }\n",
              "    80% {\n",
              "      border-color: transparent;\n",
              "      border-right-color: var(--fill-color);\n",
              "      border-bottom-color: var(--fill-color);\n",
              "    }\n",
              "    90% {\n",
              "      border-color: transparent;\n",
              "      border-bottom-color: var(--fill-color);\n",
              "    }\n",
              "  }\n",
              "</style>\n",
              "\n",
              "  <script>\n",
              "    async function quickchart(key) {\n",
              "      const quickchartButtonEl =\n",
              "        document.querySelector('#' + key + ' button');\n",
              "      quickchartButtonEl.disabled = true;  // To prevent multiple clicks.\n",
              "      quickchartButtonEl.classList.add('colab-df-spinner');\n",
              "      try {\n",
              "        const charts = await google.colab.kernel.invokeFunction(\n",
              "            'suggestCharts', [key], {});\n",
              "      } catch (error) {\n",
              "        console.error('Error during call to suggestCharts:', error);\n",
              "      }\n",
              "      quickchartButtonEl.classList.remove('colab-df-spinner');\n",
              "      quickchartButtonEl.classList.add('colab-df-quickchart-complete');\n",
              "    }\n",
              "    (() => {\n",
              "      let quickchartButtonEl =\n",
              "        document.querySelector('#df-5567854a-6711-42ef-b70e-7ff2db373fa3 button');\n",
              "      quickchartButtonEl.style.display =\n",
              "        google.colab.kernel.accessAllowed ? 'block' : 'none';\n",
              "    })();\n",
              "  </script>\n",
              "</div>\n",
              "\n",
              "    </div>\n",
              "  </div>\n"
            ],
            "application/vnd.google.colaboratory.intrinsic+json": {
              "type": "dataframe",
              "variable_name": "real_df",
              "summary": "{\n  \"name\": \"real_df\",\n  \"rows\": 5742,\n  \"fields\": [\n    {\n      \"column\": \"UWB\",\n      \"properties\": {\n        \"dtype\": \"number\",\n        \"std\": 0.3078529475804085,\n        \"min\": 0.0,\n        \"max\": 1.0000000000000002,\n        \"num_unique_values\": 5402,\n        \"samples\": [\n          0.5801618748169619,\n          0.5427854494517516,\n          0.462682597942467\n        ],\n        \"semantic_type\": \"\",\n        \"description\": \"\"\n      }\n    },\n    {\n      \"column\": \"accel_x\",\n      \"properties\": {\n        \"dtype\": \"number\",\n        \"std\": 1.0000870890487195,\n        \"min\": -5.686045213219551,\n        \"max\": 6.397124052113806,\n        \"num_unique_values\": 3666,\n        \"samples\": [\n          1.0699348735013336,\n          -1.8377665650856765,\n          -0.95155784887329\n        ],\n        \"semantic_type\": \"\",\n        \"description\": \"\"\n      }\n    },\n    {\n      \"column\": \"accel_y\",\n      \"properties\": {\n        \"dtype\": \"number\",\n        \"std\": 1.000087089048719,\n        \"min\": -5.77406448672017,\n        \"max\": 4.599595056846802,\n        \"num_unique_values\": 3666,\n        \"samples\": [\n          0.2252099822876948,\n          -0.2303492713224892,\n          1.0177737584120792\n        ],\n        \"semantic_type\": \"\",\n        \"description\": \"\"\n      }\n    },\n    {\n      \"column\": \"accel_z\",\n      \"properties\": {\n        \"dtype\": \"number\",\n        \"std\": 1.0000870890487186,\n        \"min\": -3.400200049319869,\n        \"max\": 2.660258439704985,\n        \"num_unique_values\": 3666,\n        \"samples\": [\n          -2.084402783975541,\n          0.0739364960536654,\n          1.1092695341918943\n        ],\n        \"semantic_type\": \"\",\n        \"description\": \"\"\n      }\n    },\n    {\n      \"column\": \"gyro_x\",\n      \"properties\": {\n        \"dtype\": \"number\",\n        \"std\": 1.0000870890487172,\n        \"min\": -3.7628905020817225,\n        \"max\": 3.710617979066011,\n        \"num_unique_values\": 3664,\n        \"samples\": [\n          0.2238497872171586,\n          1.799651369689667,\n          1.035706831682219\n        ],\n        \"semantic_type\": \"\",\n        \"description\": \"\"\n      }\n    },\n    {\n      \"column\": \"gyro_y\",\n      \"properties\": {\n        \"dtype\": \"number\",\n        \"std\": 1.0000870890487175,\n        \"min\": -4.449888539494788,\n        \"max\": 5.621994693750096,\n        \"num_unique_values\": 3664,\n        \"samples\": [\n          0.0179230447968594,\n          -1.1317036306490864,\n          -1.1709994224497549\n        ],\n        \"semantic_type\": \"\",\n        \"description\": \"\"\n      }\n    },\n    {\n      \"column\": \"gyro_z\",\n      \"properties\": {\n        \"dtype\": \"number\",\n        \"std\": 1.00008708904872,\n        \"min\": -4.174859768755799,\n        \"max\": 4.281194420231114,\n        \"num_unique_values\": 3664,\n        \"samples\": [\n          0.0302663806913018,\n          -1.9968948011465408,\n          -1.158391150779445\n        ],\n        \"semantic_type\": \"\",\n        \"description\": \"\"\n      }\n    },\n    {\n      \"column\": \"updown\",\n      \"properties\": {\n        \"dtype\": \"number\",\n        \"std\": 0,\n        \"min\": 0,\n        \"max\": 1,\n        \"num_unique_values\": 2,\n        \"samples\": [\n          1,\n          0\n        ],\n        \"semantic_type\": \"\",\n        \"description\": \"\"\n      }\n    }\n  ]\n}"
            }
          },
          "metadata": {},
          "execution_count": 10
        }
      ],
      "source": [
        "real_df = pd.read_csv(\"real_squat_data.csv\")\n",
        "\n",
        "real_df.head()"
      ]
    },
    {
      "cell_type": "code",
      "execution_count": 11,
      "id": "86c550ba",
      "metadata": {
        "colab": {
          "base_uri": "https://localhost:8080/"
        },
        "id": "86c550ba",
        "outputId": "1e6a1ffc-48a6-4a48-bacd-22e7d4fe1dee"
      },
      "outputs": [
        {
          "output_type": "stream",
          "name": "stdout",
          "text": [
            "Total squat ends: 67\n",
            "Index([  95,  184,  272,  369,  450,  528,  602,  671,  791,  883,  982, 1077,\n",
            "       1172, 1263, 1351, 1444, 1544, 1636, 1719, 1805, 1896, 1983, 2071, 2158,\n",
            "       2251, 2355, 2431, 2511, 2599, 2691, 2779, 2868, 2955, 3040, 3132, 3214,\n",
            "       3303, 3390, 3479, 3558, 3638, 3712, 3787, 3867, 3953, 4032, 4115, 4201,\n",
            "       4296, 4380, 4450, 4517, 4603, 4684, 4763, 4844, 4926, 5005, 5086, 5166,\n",
            "       5257, 5322, 5396, 5480, 5557, 5650, 5741],\n",
            "      dtype='int64')\n",
            "len of oneset:96\n",
            "start_index: 0, end_index: 95\n",
            "len of oneset:89\n",
            "start_index: 96, end_index: 184\n",
            "len of oneset:88\n",
            "start_index: 185, end_index: 272\n",
            "len of oneset:97\n",
            "start_index: 273, end_index: 369\n",
            "len of oneset:81\n",
            "start_index: 370, end_index: 450\n",
            "len of oneset:78\n",
            "start_index: 451, end_index: 528\n",
            "len of oneset:74\n",
            "start_index: 529, end_index: 602\n",
            "len of oneset:69\n",
            "start_index: 603, end_index: 671\n",
            "len of oneset:120\n",
            "start_index: 672, end_index: 791\n",
            "len of oneset:92\n",
            "start_index: 792, end_index: 883\n",
            "len of oneset:99\n",
            "start_index: 884, end_index: 982\n",
            "len of oneset:95\n",
            "start_index: 983, end_index: 1077\n",
            "len of oneset:95\n",
            "start_index: 1078, end_index: 1172\n",
            "len of oneset:91\n",
            "start_index: 1173, end_index: 1263\n",
            "len of oneset:88\n",
            "start_index: 1264, end_index: 1351\n",
            "len of oneset:93\n",
            "start_index: 1352, end_index: 1444\n",
            "len of oneset:100\n",
            "start_index: 1445, end_index: 1544\n",
            "len of oneset:92\n",
            "start_index: 1545, end_index: 1636\n",
            "len of oneset:83\n",
            "start_index: 1637, end_index: 1719\n",
            "len of oneset:86\n",
            "start_index: 1720, end_index: 1805\n",
            "len of oneset:91\n",
            "start_index: 1806, end_index: 1896\n",
            "len of oneset:87\n",
            "start_index: 1897, end_index: 1983\n",
            "len of oneset:88\n",
            "start_index: 1984, end_index: 2071\n",
            "len of oneset:87\n",
            "start_index: 2072, end_index: 2158\n",
            "len of oneset:93\n",
            "start_index: 2159, end_index: 2251\n",
            "len of oneset:104\n",
            "start_index: 2252, end_index: 2355\n",
            "len of oneset:76\n",
            "start_index: 2356, end_index: 2431\n",
            "len of oneset:80\n",
            "start_index: 2432, end_index: 2511\n",
            "len of oneset:88\n",
            "start_index: 2512, end_index: 2599\n",
            "len of oneset:92\n",
            "start_index: 2600, end_index: 2691\n",
            "len of oneset:88\n",
            "start_index: 2692, end_index: 2779\n",
            "len of oneset:89\n",
            "start_index: 2780, end_index: 2868\n",
            "len of oneset:87\n",
            "start_index: 2869, end_index: 2955\n",
            "len of oneset:85\n",
            "start_index: 2956, end_index: 3040\n",
            "len of oneset:92\n",
            "start_index: 3041, end_index: 3132\n",
            "len of oneset:82\n",
            "start_index: 3133, end_index: 3214\n",
            "len of oneset:89\n",
            "start_index: 3215, end_index: 3303\n",
            "len of oneset:87\n",
            "start_index: 3304, end_index: 3390\n",
            "len of oneset:89\n",
            "start_index: 3391, end_index: 3479\n",
            "len of oneset:79\n",
            "start_index: 3480, end_index: 3558\n",
            "len of oneset:80\n",
            "start_index: 3559, end_index: 3638\n",
            "len of oneset:74\n",
            "start_index: 3639, end_index: 3712\n",
            "len of oneset:75\n",
            "start_index: 3713, end_index: 3787\n",
            "len of oneset:80\n",
            "start_index: 3788, end_index: 3867\n",
            "len of oneset:86\n",
            "start_index: 3868, end_index: 3953\n",
            "len of oneset:79\n",
            "start_index: 3954, end_index: 4032\n",
            "len of oneset:83\n",
            "start_index: 4033, end_index: 4115\n",
            "len of oneset:86\n",
            "start_index: 4116, end_index: 4201\n",
            "len of oneset:95\n",
            "start_index: 4202, end_index: 4296\n",
            "len of oneset:84\n",
            "start_index: 4297, end_index: 4380\n",
            "len of oneset:70\n",
            "start_index: 4381, end_index: 4450\n",
            "len of oneset:67\n",
            "start_index: 4451, end_index: 4517\n",
            "len of oneset:86\n",
            "start_index: 4518, end_index: 4603\n",
            "len of oneset:81\n",
            "start_index: 4604, end_index: 4684\n",
            "len of oneset:79\n",
            "start_index: 4685, end_index: 4763\n",
            "len of oneset:81\n",
            "start_index: 4764, end_index: 4844\n",
            "len of oneset:82\n",
            "start_index: 4845, end_index: 4926\n",
            "len of oneset:79\n",
            "start_index: 4927, end_index: 5005\n",
            "len of oneset:81\n",
            "start_index: 5006, end_index: 5086\n",
            "len of oneset:80\n",
            "start_index: 5087, end_index: 5166\n",
            "len of oneset:91\n",
            "start_index: 5167, end_index: 5257\n",
            "len of oneset:65\n",
            "start_index: 5258, end_index: 5322\n",
            "len of oneset:74\n",
            "start_index: 5323, end_index: 5396\n",
            "len of oneset:84\n",
            "start_index: 5397, end_index: 5480\n",
            "len of oneset:77\n",
            "start_index: 5481, end_index: 5557\n",
            "len of oneset:93\n",
            "start_index: 5558, end_index: 5650\n",
            "len of oneset:91\n",
            "start_index: 5651, end_index: 5741\n",
            "Total sets: 67\n"
          ]
        }
      ],
      "source": [
        "tmp = real_df['updown'].shift(1).fillna(0)\n",
        "squat_ends = real_df[(tmp == 1) & (real_df['updown'] == 0)].index\n",
        "print(f\"Total squat ends: {len(squat_ends)}\")\n",
        "print(squat_ends)\n",
        "\n",
        "squat_sets = []\n",
        "\n",
        "start_index = 0\n",
        "for end_index in squat_ends:\n",
        "    one_set = real_df.iloc[start_index:end_index+1]\n",
        "\n",
        "    squat_sets.append(one_set)\n",
        "    print(f\"len of oneset:{len(one_set)}\")\n",
        "    #squat_sets.append(one_set)\n",
        "    print(f\"start_index: {start_index}, end_index: {end_index}\")\n",
        "    start_index = end_index + 1\n",
        "\n",
        "\n",
        "print(f\"Total sets: {len(squat_sets)}\")\n"
      ]
    },
    {
      "cell_type": "code",
      "execution_count": 12,
      "id": "45a8d677",
      "metadata": {
        "colab": {
          "base_uri": "https://localhost:8080/"
        },
        "id": "45a8d677",
        "outputId": "df8d4c00-32d3-4e11-fa51-21b1da14ee9d"
      },
      "outputs": [
        {
          "output_type": "stream",
          "name": "stdout",
          "text": [
            "(853, 15, 7) (853,)\n"
          ]
        }
      ],
      "source": [
        "X_test = []\n",
        "y_test = []\n",
        "\n",
        "for one_set in squat_sets:\n",
        "    for i in range(9, len(one_set)-15, 5):\n",
        "        X_test.append(one_set.iloc[i-9:i+6, 1:].values)\n",
        "        y_test.append(one_set.iloc[i]['updown'])\n",
        "\n",
        "X_test = np.array(X_test)\n",
        "y_test = np.array(y_test)\n",
        "print(X_test.shape, y_test.shape)"
      ]
    },
    {
      "cell_type": "code",
      "execution_count": 13,
      "id": "a849488f",
      "metadata": {
        "id": "a849488f"
      },
      "outputs": [],
      "source": [
        "train_dataset = torch.utils.data.TensorDataset(torch.tensor(X_train, dtype=torch.float32), torch.tensor(y_train, dtype=torch.long))\n",
        "val_dataset = torch.utils.data.TensorDataset(torch.tensor(X_val, dtype=torch.float32), torch.tensor(y_val, dtype=torch.long))\n",
        "test_dataset = torch.utils.data.TensorDataset(torch.tensor(X_test, dtype=torch.float32), torch.tensor(y_test, dtype=torch.long))\n",
        "\n",
        "train_loader = torch.utils.data.DataLoader(train_dataset, batch_size=32, shuffle=True)\n",
        "val_loader = torch.utils.data.DataLoader(val_dataset, batch_size=32, shuffle=False)\n",
        "test_loader = torch.utils.data.DataLoader(test_dataset, batch_size=32, shuffle=False)"
      ]
    },
    {
      "cell_type": "code",
      "execution_count": 14,
      "id": "6bb9972a",
      "metadata": {
        "id": "6bb9972a"
      },
      "outputs": [],
      "source": [
        "num_classes = 2\n",
        "input_size = 7\n",
        "hidden_size = 128\n",
        "num_layers = 2\n",
        "seq_length = 15\n",
        "\n",
        "criterion = nn.BCEWithLogitsLoss()\n",
        "learning_rate = 0.0001\n",
        "optimizer = torch.optim.Adam(model.parameters(), lr=learning_rate)\n",
        "\n",
        "num_epochs = 50\n",
        "\n",
        "train_losses = []\n",
        "val_losses = []\n",
        "train_accuracies = []\n",
        "val_accuracies = []"
      ]
    },
    {
      "cell_type": "code",
      "execution_count": 15,
      "id": "69666a1f",
      "metadata": {
        "colab": {
          "base_uri": "https://localhost:8080/"
        },
        "id": "69666a1f",
        "outputId": "d2de67fd-cae1-478f-beb9-11c92c2642c9"
      },
      "outputs": [
        {
          "output_type": "stream",
          "name": "stdout",
          "text": [
            "biGRU(\n",
            "  (gru): GRU(7, 128, num_layers=2, batch_first=True, bidirectional=True)\n",
            "  (fc): Linear(in_features=256, out_features=1, bias=True)\n",
            ")\n"
          ]
        }
      ],
      "source": [
        "print(model)"
      ]
    },
    {
      "cell_type": "code",
      "execution_count": 16,
      "id": "2b13ed48",
      "metadata": {
        "id": "2b13ed48"
      },
      "outputs": [],
      "source": [
        "def train(model, train_loader, criterion, optimizer, device):\n",
        "    model.train()\n",
        "    running_loss = 0.0\n",
        "    correct = 0\n",
        "    total = 0\n",
        "\n",
        "    for inputs, labels in tqdm(train_loader, desc=\"Training\", leave=False):\n",
        "        inputs, labels = inputs.to(device), labels.to(device)\n",
        "\n",
        "        optimizer.zero_grad()\n",
        "\n",
        "        outputs = model(inputs)\n",
        "        preds = (outputs > 0.5).float()\n",
        "        labels = labels.unsqueeze(1).float()\n",
        "        loss = criterion(outputs, labels)\n",
        "        loss.backward()\n",
        "        optimizer.step()\n",
        "\n",
        "        running_loss += loss.item()\n",
        "        #_, predicted = torch.max(outputs.data, 1)\n",
        "        total += labels.size(0)\n",
        "        correct += (preds == labels).sum().item()\n",
        "\n",
        "    epoch_loss = running_loss / len(train_loader.dataset)\n",
        "    accuracy = 100 * correct / total\n",
        "    print(f\"Train Loss: {epoch_loss:.4f}, Train Accuracy: {accuracy:.2f}%\")\n",
        "    train_losses.append(epoch_loss)\n",
        "    train_accuracies.append(accuracy)"
      ]
    },
    {
      "cell_type": "code",
      "execution_count": 17,
      "id": "4437d98c",
      "metadata": {
        "id": "4437d98c"
      },
      "outputs": [],
      "source": [
        "def evaluate(model, data_loader, criterion, device, phase=\"validation\"):\n",
        "    global best_val_acc\n",
        "    model.eval()\n",
        "    running_loss = 0.0\n",
        "    correct = 0\n",
        "    total = 0\n",
        "    all_labels = []\n",
        "    all_predictions = []\n",
        "\n",
        "    with torch.no_grad():\n",
        "        for inputs, labels in tqdm(data_loader, desc=f\"Evaluating {phase}\", leave=False):\n",
        "            inputs, labels = inputs.to(device), labels.to(device)\n",
        "\n",
        "            outputs = model(inputs)\n",
        "            preds = (outputs > 0.5).float()\n",
        "            labels = labels.unsqueeze(1).float()\n",
        "            loss = criterion(outputs, labels)\n",
        "\n",
        "            running_loss += loss.item()\n",
        "            #_, predicted = torch.max(outputs.data, 1)\n",
        "            total += labels.size(0)\n",
        "            correct += (preds == labels).sum().item()\n",
        "\n",
        "            all_labels.extend(labels.cpu().numpy())\n",
        "            all_predictions.extend(preds.cpu().numpy())\n",
        "\n",
        "    epoch_loss = running_loss / len(data_loader.dataset)\n",
        "    accuracy = 100 * correct / total\n",
        "    print(f\"{phase.capitalize()} Loss: {epoch_loss:.4f}, {phase.capitalize()} Accuracy: {accuracy:.2f}%\")\n",
        "    if phase == \"validation\":\n",
        "        val_losses.append(epoch_loss)\n",
        "        val_accuracies.append(accuracy)\n",
        "        if accuracy > best_val_acc:\n",
        "            best_val_acc = accuracy\n",
        "            torch.save(model.state_dict(), \"best_model.pth\")\n",
        "            print(\"Best model saved!\")\n",
        "    if phase == \"test\":\n",
        "        test_accuracy = accuracy\n",
        "        print(f\"Test Accuracy: {test_accuracy:.2f}%\")\n",
        "\n",
        "        f1_score_result = f1_score(all_labels, all_predictions)\n",
        "        recall_score_result = recall_score(all_labels, all_predictions)\n",
        "        precision_score_result = precision_score(all_labels, all_predictions)\n",
        "\n",
        "        return f1_score_result, recall_score_result, precision_score_result, all_labels, all_predictions"
      ]
    },
    {
      "cell_type": "code",
      "execution_count": 18,
      "id": "d0e752b3",
      "metadata": {
        "colab": {
          "base_uri": "https://localhost:8080/"
        },
        "id": "d0e752b3",
        "outputId": "05451436-930a-4b5e-f627-48212083f5be"
      },
      "outputs": [
        {
          "output_type": "stream",
          "name": "stdout",
          "text": [
            "Epoch [1/50]\n"
          ]
        },
        {
          "output_type": "stream",
          "name": "stderr",
          "text": []
        },
        {
          "output_type": "stream",
          "name": "stdout",
          "text": [
            "Train Loss: 0.0038, Train Accuracy: 94.53%\n"
          ]
        },
        {
          "output_type": "stream",
          "name": "stderr",
          "text": []
        },
        {
          "output_type": "stream",
          "name": "stdout",
          "text": [
            "Validation Loss: 0.0022, Validation Accuracy: 97.08%\n",
            "Best model saved!\n",
            "Epoch [2/50]\n"
          ]
        },
        {
          "output_type": "stream",
          "name": "stderr",
          "text": []
        },
        {
          "output_type": "stream",
          "name": "stdout",
          "text": [
            "Train Loss: 0.0019, Train Accuracy: 97.64%\n"
          ]
        },
        {
          "output_type": "stream",
          "name": "stderr",
          "text": []
        },
        {
          "output_type": "stream",
          "name": "stdout",
          "text": [
            "Validation Loss: 0.0023, Validation Accuracy: 97.14%\n",
            "Best model saved!\n",
            "Epoch [3/50]\n"
          ]
        },
        {
          "output_type": "stream",
          "name": "stderr",
          "text": []
        },
        {
          "output_type": "stream",
          "name": "stdout",
          "text": [
            "Train Loss: 0.0016, Train Accuracy: 98.04%\n"
          ]
        },
        {
          "output_type": "stream",
          "name": "stderr",
          "text": []
        },
        {
          "output_type": "stream",
          "name": "stdout",
          "text": [
            "Validation Loss: 0.0017, Validation Accuracy: 98.16%\n",
            "Best model saved!\n",
            "Epoch [4/50]\n"
          ]
        },
        {
          "output_type": "stream",
          "name": "stderr",
          "text": []
        },
        {
          "output_type": "stream",
          "name": "stdout",
          "text": [
            "Train Loss: 0.0013, Train Accuracy: 98.31%\n"
          ]
        },
        {
          "output_type": "stream",
          "name": "stderr",
          "text": []
        },
        {
          "output_type": "stream",
          "name": "stdout",
          "text": [
            "Validation Loss: 0.0015, Validation Accuracy: 97.91%\n",
            "Epoch [5/50]\n"
          ]
        },
        {
          "output_type": "stream",
          "name": "stderr",
          "text": []
        },
        {
          "output_type": "stream",
          "name": "stdout",
          "text": [
            "Train Loss: 0.0012, Train Accuracy: 98.42%\n"
          ]
        },
        {
          "output_type": "stream",
          "name": "stderr",
          "text": []
        },
        {
          "output_type": "stream",
          "name": "stdout",
          "text": [
            "Validation Loss: 0.0011, Validation Accuracy: 98.59%\n",
            "Best model saved!\n",
            "Epoch [6/50]\n"
          ]
        },
        {
          "output_type": "stream",
          "name": "stderr",
          "text": []
        },
        {
          "output_type": "stream",
          "name": "stdout",
          "text": [
            "Train Loss: 0.0011, Train Accuracy: 98.59%\n"
          ]
        },
        {
          "output_type": "stream",
          "name": "stderr",
          "text": []
        },
        {
          "output_type": "stream",
          "name": "stdout",
          "text": [
            "Validation Loss: 0.0011, Validation Accuracy: 98.75%\n",
            "Best model saved!\n",
            "Epoch [7/50]\n"
          ]
        },
        {
          "output_type": "stream",
          "name": "stderr",
          "text": []
        },
        {
          "output_type": "stream",
          "name": "stdout",
          "text": [
            "Train Loss: 0.0010, Train Accuracy: 98.73%\n"
          ]
        },
        {
          "output_type": "stream",
          "name": "stderr",
          "text": []
        },
        {
          "output_type": "stream",
          "name": "stdout",
          "text": [
            "Validation Loss: 0.0013, Validation Accuracy: 98.39%\n",
            "Epoch [8/50]\n"
          ]
        },
        {
          "output_type": "stream",
          "name": "stderr",
          "text": []
        },
        {
          "output_type": "stream",
          "name": "stdout",
          "text": [
            "Train Loss: 0.0010, Train Accuracy: 98.78%\n"
          ]
        },
        {
          "output_type": "stream",
          "name": "stderr",
          "text": []
        },
        {
          "output_type": "stream",
          "name": "stdout",
          "text": [
            "Validation Loss: 0.0010, Validation Accuracy: 98.94%\n",
            "Best model saved!\n",
            "Epoch [9/50]\n"
          ]
        },
        {
          "output_type": "stream",
          "name": "stderr",
          "text": []
        },
        {
          "output_type": "stream",
          "name": "stdout",
          "text": [
            "Train Loss: 0.0009, Train Accuracy: 98.83%\n"
          ]
        },
        {
          "output_type": "stream",
          "name": "stderr",
          "text": []
        },
        {
          "output_type": "stream",
          "name": "stdout",
          "text": [
            "Validation Loss: 0.0011, Validation Accuracy: 98.99%\n",
            "Best model saved!\n",
            "Epoch [10/50]\n"
          ]
        },
        {
          "output_type": "stream",
          "name": "stderr",
          "text": []
        },
        {
          "output_type": "stream",
          "name": "stdout",
          "text": [
            "Train Loss: 0.0009, Train Accuracy: 98.87%\n"
          ]
        },
        {
          "output_type": "stream",
          "name": "stderr",
          "text": []
        },
        {
          "output_type": "stream",
          "name": "stdout",
          "text": [
            "Validation Loss: 0.0010, Validation Accuracy: 98.98%\n",
            "Epoch [11/50]\n"
          ]
        },
        {
          "output_type": "stream",
          "name": "stderr",
          "text": []
        },
        {
          "output_type": "stream",
          "name": "stdout",
          "text": [
            "Train Loss: 0.0009, Train Accuracy: 98.91%\n"
          ]
        },
        {
          "output_type": "stream",
          "name": "stderr",
          "text": []
        },
        {
          "output_type": "stream",
          "name": "stdout",
          "text": [
            "Validation Loss: 0.0010, Validation Accuracy: 99.01%\n",
            "Best model saved!\n",
            "Epoch [12/50]\n"
          ]
        },
        {
          "output_type": "stream",
          "name": "stderr",
          "text": []
        },
        {
          "output_type": "stream",
          "name": "stdout",
          "text": [
            "Train Loss: 0.0008, Train Accuracy: 98.98%\n"
          ]
        },
        {
          "output_type": "stream",
          "name": "stderr",
          "text": []
        },
        {
          "output_type": "stream",
          "name": "stdout",
          "text": [
            "Validation Loss: 0.0009, Validation Accuracy: 99.16%\n",
            "Best model saved!\n",
            "Epoch [13/50]\n"
          ]
        },
        {
          "output_type": "stream",
          "name": "stderr",
          "text": []
        },
        {
          "output_type": "stream",
          "name": "stdout",
          "text": [
            "Train Loss: 0.0008, Train Accuracy: 99.00%\n"
          ]
        },
        {
          "output_type": "stream",
          "name": "stderr",
          "text": []
        },
        {
          "output_type": "stream",
          "name": "stdout",
          "text": [
            "Validation Loss: 0.0009, Validation Accuracy: 99.14%\n",
            "Epoch [14/50]\n"
          ]
        },
        {
          "output_type": "stream",
          "name": "stderr",
          "text": []
        },
        {
          "output_type": "stream",
          "name": "stdout",
          "text": [
            "Train Loss: 0.0008, Train Accuracy: 98.99%\n"
          ]
        },
        {
          "output_type": "stream",
          "name": "stderr",
          "text": []
        },
        {
          "output_type": "stream",
          "name": "stdout",
          "text": [
            "Validation Loss: 0.0009, Validation Accuracy: 99.04%\n",
            "Epoch [15/50]\n"
          ]
        },
        {
          "output_type": "stream",
          "name": "stderr",
          "text": []
        },
        {
          "output_type": "stream",
          "name": "stdout",
          "text": [
            "Train Loss: 0.0007, Train Accuracy: 99.04%\n"
          ]
        },
        {
          "output_type": "stream",
          "name": "stderr",
          "text": []
        },
        {
          "output_type": "stream",
          "name": "stdout",
          "text": [
            "Validation Loss: 0.0011, Validation Accuracy: 98.92%\n",
            "Epoch [16/50]\n"
          ]
        },
        {
          "output_type": "stream",
          "name": "stderr",
          "text": []
        },
        {
          "output_type": "stream",
          "name": "stdout",
          "text": [
            "Train Loss: 0.0007, Train Accuracy: 99.09%\n"
          ]
        },
        {
          "output_type": "stream",
          "name": "stderr",
          "text": []
        },
        {
          "output_type": "stream",
          "name": "stdout",
          "text": [
            "Validation Loss: 0.0008, Validation Accuracy: 99.11%\n",
            "Epoch [17/50]\n"
          ]
        },
        {
          "output_type": "stream",
          "name": "stderr",
          "text": []
        },
        {
          "output_type": "stream",
          "name": "stdout",
          "text": [
            "Train Loss: 0.0007, Train Accuracy: 99.12%\n"
          ]
        },
        {
          "output_type": "stream",
          "name": "stderr",
          "text": []
        },
        {
          "output_type": "stream",
          "name": "stdout",
          "text": [
            "Validation Loss: 0.0008, Validation Accuracy: 99.14%\n",
            "Epoch [18/50]\n"
          ]
        },
        {
          "output_type": "stream",
          "name": "stderr",
          "text": []
        },
        {
          "output_type": "stream",
          "name": "stdout",
          "text": [
            "Train Loss: 0.0007, Train Accuracy: 99.14%\n"
          ]
        },
        {
          "output_type": "stream",
          "name": "stderr",
          "text": []
        },
        {
          "output_type": "stream",
          "name": "stdout",
          "text": [
            "Validation Loss: 0.0008, Validation Accuracy: 98.97%\n",
            "Epoch [19/50]\n"
          ]
        },
        {
          "output_type": "stream",
          "name": "stderr",
          "text": []
        },
        {
          "output_type": "stream",
          "name": "stdout",
          "text": [
            "Train Loss: 0.0006, Train Accuracy: 99.15%\n"
          ]
        },
        {
          "output_type": "stream",
          "name": "stderr",
          "text": []
        },
        {
          "output_type": "stream",
          "name": "stdout",
          "text": [
            "Validation Loss: 0.0008, Validation Accuracy: 99.02%\n",
            "Epoch [20/50]\n"
          ]
        },
        {
          "output_type": "stream",
          "name": "stderr",
          "text": []
        },
        {
          "output_type": "stream",
          "name": "stdout",
          "text": [
            "Train Loss: 0.0006, Train Accuracy: 99.20%\n"
          ]
        },
        {
          "output_type": "stream",
          "name": "stderr",
          "text": []
        },
        {
          "output_type": "stream",
          "name": "stdout",
          "text": [
            "Validation Loss: 0.0007, Validation Accuracy: 99.21%\n",
            "Best model saved!\n",
            "Epoch [21/50]\n"
          ]
        },
        {
          "output_type": "stream",
          "name": "stderr",
          "text": []
        },
        {
          "output_type": "stream",
          "name": "stdout",
          "text": [
            "Train Loss: 0.0006, Train Accuracy: 99.19%\n"
          ]
        },
        {
          "output_type": "stream",
          "name": "stderr",
          "text": []
        },
        {
          "output_type": "stream",
          "name": "stdout",
          "text": [
            "Validation Loss: 0.0007, Validation Accuracy: 99.25%\n",
            "Best model saved!\n",
            "Epoch [22/50]\n"
          ]
        },
        {
          "output_type": "stream",
          "name": "stderr",
          "text": []
        },
        {
          "output_type": "stream",
          "name": "stdout",
          "text": [
            "Train Loss: 0.0006, Train Accuracy: 99.22%\n"
          ]
        },
        {
          "output_type": "stream",
          "name": "stderr",
          "text": []
        },
        {
          "output_type": "stream",
          "name": "stdout",
          "text": [
            "Validation Loss: 0.0008, Validation Accuracy: 99.09%\n",
            "Epoch [23/50]\n"
          ]
        },
        {
          "output_type": "stream",
          "name": "stderr",
          "text": []
        },
        {
          "output_type": "stream",
          "name": "stdout",
          "text": [
            "Train Loss: 0.0006, Train Accuracy: 99.21%\n"
          ]
        },
        {
          "output_type": "stream",
          "name": "stderr",
          "text": []
        },
        {
          "output_type": "stream",
          "name": "stdout",
          "text": [
            "Validation Loss: 0.0008, Validation Accuracy: 99.16%\n",
            "Epoch [24/50]\n"
          ]
        },
        {
          "output_type": "stream",
          "name": "stderr",
          "text": []
        },
        {
          "output_type": "stream",
          "name": "stdout",
          "text": [
            "Train Loss: 0.0006, Train Accuracy: 99.24%\n"
          ]
        },
        {
          "output_type": "stream",
          "name": "stderr",
          "text": []
        },
        {
          "output_type": "stream",
          "name": "stdout",
          "text": [
            "Validation Loss: 0.0007, Validation Accuracy: 99.11%\n",
            "Epoch [25/50]\n"
          ]
        },
        {
          "output_type": "stream",
          "name": "stderr",
          "text": []
        },
        {
          "output_type": "stream",
          "name": "stdout",
          "text": [
            "Train Loss: 0.0006, Train Accuracy: 99.23%\n"
          ]
        },
        {
          "output_type": "stream",
          "name": "stderr",
          "text": []
        },
        {
          "output_type": "stream",
          "name": "stdout",
          "text": [
            "Validation Loss: 0.0007, Validation Accuracy: 99.16%\n",
            "Epoch [26/50]\n"
          ]
        },
        {
          "output_type": "stream",
          "name": "stderr",
          "text": []
        },
        {
          "output_type": "stream",
          "name": "stdout",
          "text": [
            "Train Loss: 0.0006, Train Accuracy: 99.27%\n"
          ]
        },
        {
          "output_type": "stream",
          "name": "stderr",
          "text": []
        },
        {
          "output_type": "stream",
          "name": "stdout",
          "text": [
            "Validation Loss: 0.0007, Validation Accuracy: 99.29%\n",
            "Best model saved!\n",
            "Epoch [27/50]\n"
          ]
        },
        {
          "output_type": "stream",
          "name": "stderr",
          "text": []
        },
        {
          "output_type": "stream",
          "name": "stdout",
          "text": [
            "Train Loss: 0.0006, Train Accuracy: 99.27%\n"
          ]
        },
        {
          "output_type": "stream",
          "name": "stderr",
          "text": []
        },
        {
          "output_type": "stream",
          "name": "stdout",
          "text": [
            "Validation Loss: 0.0007, Validation Accuracy: 99.28%\n",
            "Epoch [28/50]\n"
          ]
        },
        {
          "output_type": "stream",
          "name": "stderr",
          "text": []
        },
        {
          "output_type": "stream",
          "name": "stdout",
          "text": [
            "Train Loss: 0.0006, Train Accuracy: 99.28%\n"
          ]
        },
        {
          "output_type": "stream",
          "name": "stderr",
          "text": []
        },
        {
          "output_type": "stream",
          "name": "stdout",
          "text": [
            "Validation Loss: 0.0007, Validation Accuracy: 99.16%\n",
            "Epoch [29/50]\n"
          ]
        },
        {
          "output_type": "stream",
          "name": "stderr",
          "text": []
        },
        {
          "output_type": "stream",
          "name": "stdout",
          "text": [
            "Train Loss: 0.0005, Train Accuracy: 99.29%\n"
          ]
        },
        {
          "output_type": "stream",
          "name": "stderr",
          "text": []
        },
        {
          "output_type": "stream",
          "name": "stdout",
          "text": [
            "Validation Loss: 0.0007, Validation Accuracy: 99.29%\n",
            "Epoch [30/50]\n"
          ]
        },
        {
          "output_type": "stream",
          "name": "stderr",
          "text": []
        },
        {
          "output_type": "stream",
          "name": "stdout",
          "text": [
            "Train Loss: 0.0006, Train Accuracy: 99.27%\n"
          ]
        },
        {
          "output_type": "stream",
          "name": "stderr",
          "text": []
        },
        {
          "output_type": "stream",
          "name": "stdout",
          "text": [
            "Validation Loss: 0.0007, Validation Accuracy: 99.19%\n",
            "Epoch [31/50]\n"
          ]
        },
        {
          "output_type": "stream",
          "name": "stderr",
          "text": []
        },
        {
          "output_type": "stream",
          "name": "stdout",
          "text": [
            "Train Loss: 0.0005, Train Accuracy: 99.30%\n"
          ]
        },
        {
          "output_type": "stream",
          "name": "stderr",
          "text": []
        },
        {
          "output_type": "stream",
          "name": "stdout",
          "text": [
            "Validation Loss: 0.0007, Validation Accuracy: 99.26%\n",
            "Epoch [32/50]\n"
          ]
        },
        {
          "output_type": "stream",
          "name": "stderr",
          "text": []
        },
        {
          "output_type": "stream",
          "name": "stdout",
          "text": [
            "Train Loss: 0.0005, Train Accuracy: 99.26%\n"
          ]
        },
        {
          "output_type": "stream",
          "name": "stderr",
          "text": []
        },
        {
          "output_type": "stream",
          "name": "stdout",
          "text": [
            "Validation Loss: 0.0007, Validation Accuracy: 99.29%\n",
            "Epoch [33/50]\n"
          ]
        },
        {
          "output_type": "stream",
          "name": "stderr",
          "text": []
        },
        {
          "output_type": "stream",
          "name": "stdout",
          "text": [
            "Train Loss: 0.0005, Train Accuracy: 99.33%\n"
          ]
        },
        {
          "output_type": "stream",
          "name": "stderr",
          "text": []
        },
        {
          "output_type": "stream",
          "name": "stdout",
          "text": [
            "Validation Loss: 0.0007, Validation Accuracy: 99.32%\n",
            "Best model saved!\n",
            "Epoch [34/50]\n"
          ]
        },
        {
          "output_type": "stream",
          "name": "stderr",
          "text": []
        },
        {
          "output_type": "stream",
          "name": "stdout",
          "text": [
            "Train Loss: 0.0005, Train Accuracy: 99.32%\n"
          ]
        },
        {
          "output_type": "stream",
          "name": "stderr",
          "text": []
        },
        {
          "output_type": "stream",
          "name": "stdout",
          "text": [
            "Validation Loss: 0.0007, Validation Accuracy: 99.17%\n",
            "Epoch [35/50]\n"
          ]
        },
        {
          "output_type": "stream",
          "name": "stderr",
          "text": []
        },
        {
          "output_type": "stream",
          "name": "stdout",
          "text": [
            "Train Loss: 0.0005, Train Accuracy: 99.34%\n"
          ]
        },
        {
          "output_type": "stream",
          "name": "stderr",
          "text": []
        },
        {
          "output_type": "stream",
          "name": "stdout",
          "text": [
            "Validation Loss: 0.0006, Validation Accuracy: 99.23%\n",
            "Epoch [36/50]\n"
          ]
        },
        {
          "output_type": "stream",
          "name": "stderr",
          "text": []
        },
        {
          "output_type": "stream",
          "name": "stdout",
          "text": [
            "Train Loss: 0.0005, Train Accuracy: 99.35%\n"
          ]
        },
        {
          "output_type": "stream",
          "name": "stderr",
          "text": []
        },
        {
          "output_type": "stream",
          "name": "stdout",
          "text": [
            "Validation Loss: 0.0007, Validation Accuracy: 99.16%\n",
            "Epoch [37/50]\n"
          ]
        },
        {
          "output_type": "stream",
          "name": "stderr",
          "text": []
        },
        {
          "output_type": "stream",
          "name": "stdout",
          "text": [
            "Train Loss: 0.0005, Train Accuracy: 99.36%\n"
          ]
        },
        {
          "output_type": "stream",
          "name": "stderr",
          "text": []
        },
        {
          "output_type": "stream",
          "name": "stdout",
          "text": [
            "Validation Loss: 0.0007, Validation Accuracy: 99.24%\n",
            "Epoch [38/50]\n"
          ]
        },
        {
          "output_type": "stream",
          "name": "stderr",
          "text": []
        },
        {
          "output_type": "stream",
          "name": "stdout",
          "text": [
            "Train Loss: 0.0005, Train Accuracy: 99.36%\n"
          ]
        },
        {
          "output_type": "stream",
          "name": "stderr",
          "text": []
        },
        {
          "output_type": "stream",
          "name": "stdout",
          "text": [
            "Validation Loss: 0.0007, Validation Accuracy: 99.32%\n",
            "Epoch [39/50]\n"
          ]
        },
        {
          "output_type": "stream",
          "name": "stderr",
          "text": []
        },
        {
          "output_type": "stream",
          "name": "stdout",
          "text": [
            "Train Loss: 0.0005, Train Accuracy: 99.38%\n"
          ]
        },
        {
          "output_type": "stream",
          "name": "stderr",
          "text": []
        },
        {
          "output_type": "stream",
          "name": "stdout",
          "text": [
            "Validation Loss: 0.0006, Validation Accuracy: 99.31%\n",
            "Epoch [40/50]\n"
          ]
        },
        {
          "output_type": "stream",
          "name": "stderr",
          "text": []
        },
        {
          "output_type": "stream",
          "name": "stdout",
          "text": [
            "Train Loss: 0.0005, Train Accuracy: 99.37%\n"
          ]
        },
        {
          "output_type": "stream",
          "name": "stderr",
          "text": []
        },
        {
          "output_type": "stream",
          "name": "stdout",
          "text": [
            "Validation Loss: 0.0007, Validation Accuracy: 99.21%\n",
            "Epoch [41/50]\n"
          ]
        },
        {
          "output_type": "stream",
          "name": "stderr",
          "text": []
        },
        {
          "output_type": "stream",
          "name": "stdout",
          "text": [
            "Train Loss: 0.0005, Train Accuracy: 99.38%\n"
          ]
        },
        {
          "output_type": "stream",
          "name": "stderr",
          "text": []
        },
        {
          "output_type": "stream",
          "name": "stdout",
          "text": [
            "Validation Loss: 0.0006, Validation Accuracy: 99.28%\n",
            "Epoch [42/50]\n"
          ]
        },
        {
          "output_type": "stream",
          "name": "stderr",
          "text": []
        },
        {
          "output_type": "stream",
          "name": "stdout",
          "text": [
            "Train Loss: 0.0005, Train Accuracy: 99.39%\n"
          ]
        },
        {
          "output_type": "stream",
          "name": "stderr",
          "text": []
        },
        {
          "output_type": "stream",
          "name": "stdout",
          "text": [
            "Validation Loss: 0.0006, Validation Accuracy: 99.31%\n",
            "Epoch [43/50]\n"
          ]
        },
        {
          "output_type": "stream",
          "name": "stderr",
          "text": []
        },
        {
          "output_type": "stream",
          "name": "stdout",
          "text": [
            "Train Loss: 0.0004, Train Accuracy: 99.42%\n"
          ]
        },
        {
          "output_type": "stream",
          "name": "stderr",
          "text": []
        },
        {
          "output_type": "stream",
          "name": "stdout",
          "text": [
            "Validation Loss: 0.0006, Validation Accuracy: 99.33%\n",
            "Best model saved!\n",
            "Epoch [44/50]\n"
          ]
        },
        {
          "output_type": "stream",
          "name": "stderr",
          "text": []
        },
        {
          "output_type": "stream",
          "name": "stdout",
          "text": [
            "Train Loss: 0.0004, Train Accuracy: 99.43%\n"
          ]
        },
        {
          "output_type": "stream",
          "name": "stderr",
          "text": []
        },
        {
          "output_type": "stream",
          "name": "stdout",
          "text": [
            "Validation Loss: 0.0006, Validation Accuracy: 99.31%\n",
            "Epoch [45/50]\n"
          ]
        },
        {
          "output_type": "stream",
          "name": "stderr",
          "text": []
        },
        {
          "output_type": "stream",
          "name": "stdout",
          "text": [
            "Train Loss: 0.0004, Train Accuracy: 99.42%\n"
          ]
        },
        {
          "output_type": "stream",
          "name": "stderr",
          "text": []
        },
        {
          "output_type": "stream",
          "name": "stdout",
          "text": [
            "Validation Loss: 0.0007, Validation Accuracy: 99.34%\n",
            "Best model saved!\n",
            "Epoch [46/50]\n"
          ]
        },
        {
          "output_type": "stream",
          "name": "stderr",
          "text": []
        },
        {
          "output_type": "stream",
          "name": "stdout",
          "text": [
            "Train Loss: 0.0004, Train Accuracy: 99.42%\n"
          ]
        },
        {
          "output_type": "stream",
          "name": "stderr",
          "text": []
        },
        {
          "output_type": "stream",
          "name": "stdout",
          "text": [
            "Validation Loss: 0.0007, Validation Accuracy: 99.21%\n",
            "Epoch [47/50]\n"
          ]
        },
        {
          "output_type": "stream",
          "name": "stderr",
          "text": []
        },
        {
          "output_type": "stream",
          "name": "stdout",
          "text": [
            "Train Loss: 0.0004, Train Accuracy: 99.43%\n"
          ]
        },
        {
          "output_type": "stream",
          "name": "stderr",
          "text": []
        },
        {
          "output_type": "stream",
          "name": "stdout",
          "text": [
            "Validation Loss: 0.0006, Validation Accuracy: 99.31%\n",
            "Epoch [48/50]\n"
          ]
        },
        {
          "output_type": "stream",
          "name": "stderr",
          "text": []
        },
        {
          "output_type": "stream",
          "name": "stdout",
          "text": [
            "Train Loss: 0.0004, Train Accuracy: 99.46%\n"
          ]
        },
        {
          "output_type": "stream",
          "name": "stderr",
          "text": []
        },
        {
          "output_type": "stream",
          "name": "stdout",
          "text": [
            "Validation Loss: 0.0007, Validation Accuracy: 99.11%\n",
            "Epoch [49/50]\n"
          ]
        },
        {
          "output_type": "stream",
          "name": "stderr",
          "text": []
        },
        {
          "output_type": "stream",
          "name": "stdout",
          "text": [
            "Train Loss: 0.0004, Train Accuracy: 99.50%\n"
          ]
        },
        {
          "output_type": "stream",
          "name": "stderr",
          "text": []
        },
        {
          "output_type": "stream",
          "name": "stdout",
          "text": [
            "Validation Loss: 0.0007, Validation Accuracy: 99.24%\n",
            "Epoch [50/50]\n"
          ]
        },
        {
          "output_type": "stream",
          "name": "stderr",
          "text": []
        },
        {
          "output_type": "stream",
          "name": "stdout",
          "text": [
            "Train Loss: 0.0004, Train Accuracy: 99.49%\n"
          ]
        },
        {
          "output_type": "stream",
          "name": "stderr",
          "text": [
            "                                                                         "
          ]
        },
        {
          "output_type": "stream",
          "name": "stdout",
          "text": [
            "Validation Loss: 0.0006, Validation Accuracy: 99.33%\n"
          ]
        },
        {
          "output_type": "stream",
          "name": "stderr",
          "text": [
            "\r"
          ]
        }
      ],
      "source": [
        "best_val_acc = 0.0\n",
        "for epoch in range(num_epochs):\n",
        "    print(f\"Epoch [{epoch+1}/{num_epochs}]\")\n",
        "    train(model, train_loader, criterion, optimizer, device)\n",
        "    evaluate(model, val_loader, criterion, device, phase=\"validation\")"
      ]
    },
    {
      "cell_type": "code",
      "execution_count": 19,
      "id": "b4f73971",
      "metadata": {
        "colab": {
          "base_uri": "https://localhost:8080/"
        },
        "id": "b4f73971",
        "outputId": "cd0b3d0d-2fbb-4d6e-aea3-a42a584b9a27"
      },
      "outputs": [
        {
          "output_type": "stream",
          "name": "stderr",
          "text": [
            "                                                       "
          ]
        },
        {
          "output_type": "stream",
          "name": "stdout",
          "text": [
            "Test Loss: 0.1321, Test Accuracy: 55.80%\n",
            "Test Accuracy: 55.80%\n"
          ]
        },
        {
          "output_type": "stream",
          "name": "stderr",
          "text": [
            "\r"
          ]
        }
      ],
      "source": [
        "model.load_state_dict(torch.load(\"best_model.pth\"))\n",
        "model = model.to(device)\n",
        "f1_score_result, recall_score_result, precision_score_result, all_labels, all_predictions = evaluate(model, test_loader, criterion, device, phase=\"test\")"
      ]
    },
    {
      "cell_type": "code",
      "execution_count": 20,
      "id": "bdf55ade",
      "metadata": {
        "colab": {
          "base_uri": "https://localhost:8080/"
        },
        "id": "bdf55ade",
        "outputId": "58d25902-ab49-4bff-8229-166f35df9c56"
      },
      "outputs": [
        {
          "output_type": "stream",
          "name": "stdout",
          "text": [
            "F1 Score: 0.6447\n",
            "Recall Score: 0.8571\n",
            "Precision Score: 0.5166\n"
          ]
        }
      ],
      "source": [
        "print(f\"F1 Score: {f1_score_result:.4f}\")\n",
        "print(f\"Recall Score: {recall_score_result:.4f}\")\n",
        "print(f\"Precision Score: {precision_score_result:.4f}\")"
      ]
    },
    {
      "cell_type": "code",
      "execution_count": 21,
      "id": "011ebae7",
      "metadata": {
        "colab": {
          "base_uri": "https://localhost:8080/",
          "height": 281
        },
        "id": "011ebae7",
        "outputId": "68450967-8f52-4f67-d467-ce73b0cf630f"
      },
      "outputs": [
        {
          "output_type": "display_data",
          "data": {
            "text/plain": [
              "<Figure size 1200x500 with 2 Axes>"
            ],
            "image/png": "[encoded data removed]"
          },
          "metadata": {}
        }
      ],
      "source": [
        "import matplotlib.pyplot as plt\n",
        "\n",
        "epochs = range(1, num_epochs + 1)\n",
        "\n",
        "plt.figure(figsize=(12, 5))\n",
        "\n",
        "# Plot training and validation loss}\n",
        "plt.subplot(1, 2, 1)\n",
        "plt.plot(epochs, train_losses, label=\"Train Loss\")\n",
        "plt.plot(epochs, val_losses, label=\"Validation Loss\")\n",
        "plt.xlabel(\"Epochs\")\n",
        "plt.ylabel(\"Loss\")\n",
        "plt.title(\"Training and Validation Loss\")\n",
        "plt.legend()\n",
        "\n",
        "# Plot training and validation accuracy\n",
        "plt.subplot(1, 2, 2)\n",
        "plt.plot(epochs, train_accuracies, label=\"Train Accuracy\")\n",
        "plt.plot(epochs, val_accuracies, label=\"Validation Accuracy\")\n",
        "plt.xlabel(\"Epochs\")\n",
        "plt.ylabel(\"Accuracy\")\n",
        "plt.title(\"Training and Validation Accuracy\")\n",
        "plt.legend()\n",
        "\n",
        "plt.tight_layout()\n",
        "plt.show()"
      ]
    }
  ],
  "metadata": {
    "accelerator": "GPU",
    "colab": {
      "gpuType": "A100",
      "machine_shape": "hm",
      "provenance": []
    },
    "kernelspec": {
      "display_name": "Python 3",
      "name": "python3"
    },
    "language_info": {
      "codemirror_mode": {
        "name": "ipython",
        "version": 3
      },
      "file_extension": ".py",
      "mimetype": "text/x-python",
      "name": "python",
      "nbconvert_exporter": "python",
      "pygments_lexer": "ipython3",
      "version": "3.11.9"
    }
  },
  "nbformat": 4,
  "nbformat_minor": 5
}