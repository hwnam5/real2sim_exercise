{
 "cells": [
  {
   "cell_type": "code",
   "execution_count": 32,
   "id": "f876860c",
   "metadata": {},
   "outputs": [
    {
     "name": "stdout",
     "output_type": "stream",
     "text": [
      "   updown       UWB     vel_x     vel_y     vel_z     accel_x     accel_y  \\\n",
      "0       0  1.711766  0.000000  0.000000  0.000000   11.828938  -47.956334   \n",
      "1       0  1.711567  0.032885 -0.103377  0.085973  161.323707  -58.555513   \n",
      "2       0  1.707675  0.814416 -0.361158 -0.095207 -178.527859  131.141650   \n",
      "3       0  1.706877 -0.014801  0.076857 -0.414512  167.629076 -131.972570   \n",
      "4       0  1.702809  0.778336 -0.387729 -0.164145 -152.167755   50.021166   \n",
      "\n",
      "      accel_z    gyro_x    gyro_y    gyro_z  \n",
      "0   62.560536  0.000000  0.000000  0.000000  \n",
      "1  -18.781445  1.277550  0.196830 -0.315507  \n",
      "2 -121.957382  0.458584  2.095545 -2.194921  \n",
      "3  115.180361 -2.522667  1.956186  0.759899  \n",
      "4   -3.156194  1.050402  2.661206 -2.515833  \n"
     ]
    }
   ],
   "source": [
    "import pandas as pd\n",
    "\n",
    "#file_path = \"sim_squat_data.csv\"\n",
    "file_path = \"../simulate_data/squat_data.csv\"\n",
    "\n",
    "df = pd.read_csv(file_path)\n",
    "\n",
    "print(df.head())"
   ]
  },
  {
   "cell_type": "code",
   "execution_count": 33,
   "id": "20fe6b9a",
   "metadata": {},
   "outputs": [],
   "source": [
    "tmp = df['updown'].shift(1).fillna(0)\n",
    "start_idxs = [0] + df[(tmp == 1) & (df['updown'] == 0)].index.tolist()"
   ]
  },
  {
   "cell_type": "code",
   "execution_count": 34,
   "id": "89487545",
   "metadata": {},
   "outputs": [],
   "source": [
    "# 스쿼트 각 세트당 시작 행 삭제\n",
    "for i in range(len(start_idxs)):\n",
    "    start = start_idxs[i]\n",
    "    \n",
    "    df.drop(index=start, inplace=True)"
   ]
  },
  {
   "cell_type": "code",
   "execution_count": 35,
   "id": "2f8dc25a",
   "metadata": {},
   "outputs": [],
   "source": [
    "# madgwick filter 사용해서 world frame으로 변환\n",
    "\n",
    "from ahrs.filters import Madgwick\n",
    "import numpy as np\n",
    "from scipy.spatial.transform import Rotation as R\n",
    "\n",
    "tmp = df['updown'].shift(1).fillna(0)\n",
    "start_idxs = [0] + df[(tmp == 1) & (df['updown'] == 0)].index.tolist()\n",
    "\n",
    "squat_sets = []\n",
    "\n",
    "madgwick = Madgwick()\n",
    "\n",
    "for i in range(len(start_idxs)):\n",
    "    start = start_idxs[i]\n",
    "    end = start_idxs[i + 1] if i + 1 < len(start_idxs) else len(df)\n",
    "\n",
    "    squat = df.iloc[start:end].copy()\n",
    "    quat = np.array([1.0, 0.0, 0.0, 0.0])\n",
    "\n",
    "    for j in range(len(squat)):\n",
    "        acc = squat.iloc[j][['accel_x', 'accel_y', 'accel_z']].values\n",
    "        gyro = squat.iloc[j][['gyro_x', 'gyro_y', 'gyro_z']].values\n",
    "        vel = squat.iloc[j][['vel_x', 'vel_y', 'vel_z']].values\n",
    "\n",
    "        quat = madgwick.updateIMU(q=quat, gyr=gyro, acc=acc)\n",
    "        rot_mat = R.from_quat([quat[1], quat[2], quat[3], quat[0]]).as_matrix()\n",
    "\n",
    "        vel_world = rot_mat @ vel\n",
    "        acc_world = rot_mat @ acc\n",
    "        gyro_world = rot_mat @ gyro\n",
    "\n",
    "        squat.iloc[j, 2:5] = vel_world\n",
    "        squat.iloc[j, 5:8] = acc_world\n",
    "        squat.iloc[j, 8:11] = gyro_world\n",
    "\n",
    "    squat_sets.append(squat)"
   ]
  },
  {
   "cell_type": "code",
   "execution_count": 36,
   "id": "803e917c",
   "metadata": {},
   "outputs": [],
   "source": [
    "df = pd.concat(squat_sets, ignore_index=True)"
   ]
  },
  {
   "cell_type": "code",
   "execution_count": 37,
   "id": "bb5e10da",
   "metadata": {},
   "outputs": [
    {
     "name": "stdout",
     "output_type": "stream",
     "text": [
      "   updown       UWB     vel_x     vel_y     vel_z     accel_x     accel_y  \\\n",
      "0       0  1.711567  0.032672 -0.104551  0.084624  161.112580  -58.822470   \n",
      "1       0  1.707675  0.802692 -0.379465 -0.120274 -177.896889  137.677035   \n",
      "2       0  1.706877 -0.031034  0.074030 -0.414129  170.117828 -133.959633   \n",
      "3       0  1.702809  0.747964 -0.419588 -0.218128 -149.761732   56.418053   \n",
      "4       0  1.701773  0.015790 -0.146208 -0.195633  141.994315  -41.375078   \n",
      "\n",
      "      accel_z    gyro_x    gyro_y    gyro_z  \n",
      "0  -19.735317  1.277746  0.196754 -0.314760  \n",
      "1 -115.506116  0.461164  2.122345 -2.168471  \n",
      "2  109.075767 -2.455151  2.004541  0.849710  \n",
      "3    7.451946  0.985855  2.624777 -2.579422  \n",
      "4  -30.795562 -1.178501  0.701131  0.296573  \n"
     ]
    }
   ],
   "source": [
    "print(df.head())"
   ]
  },
  {
   "cell_type": "code",
   "execution_count": 38,
   "id": "ffdbb8c6",
   "metadata": {},
   "outputs": [],
   "source": [
    "# UWB는 각 세트별로 정규화 (Min-Max Scaling) => 상대적인 거리가 중요\n",
    "# IMU는 전체 데이터에서 정규화 (Standard Scaling) => 값들의 크기 자체가 의미가 있기 때문\n",
    "# 얼마나 빨리, 세게 움직이는지 중요 따라서 크기 자체가 중요 (강도 차이 유지, 움직임 패턴이 왜곡 없이 유지)\n",
    "from sklearn.preprocessing import StandardScaler, MinMaxScaler\n",
    "\n",
    "imu_cols = ['vel_x', 'vel_y', 'vel_z', \n",
    "            'accel_x', 'accel_y', 'accel_z', \n",
    "            'gyro_x', 'gyro_y', 'gyro_z']\n",
    "UWB_cols = ['UWB']\n",
    "tmp = df['updown'].shift(1).fillna(0)\n",
    "start_idxs = [0] + df[(tmp == 1) & (df['updown'] == 0)].index.tolist()\n",
    "\n",
    "squat_sets = []\n",
    "\n",
    "for i in range(len(start_idxs)):\n",
    "    start = start_idxs[i]\n",
    "    end = start_idxs[i + 1] if i + 1 < len(start_idxs) else len(df)\n",
    "\n",
    "    squat = df.iloc[start:end].copy()\n",
    "    if squat.empty:\n",
    "        print(f\"end == start: {end} == {start}\")\n",
    "        continue\n",
    "    imu_scaler = StandardScaler()\n",
    "    uwb_scaler = MinMaxScaler()\n",
    "\n",
    "    squat[imu_cols] = imu_scaler.fit_transform(squat[imu_cols])\n",
    "    squat[UWB_cols] = uwb_scaler.fit_transform(squat[UWB_cols])\n",
    "\n",
    "    squat_sets.append(squat)"
   ]
  },
  {
   "cell_type": "code",
   "execution_count": 39,
   "id": "be58f0e9",
   "metadata": {},
   "outputs": [],
   "source": [
    "# smoothing imu data\n",
    "\n",
    "for i in range(len(squat_sets)):\n",
    "    squat = squat_sets[i]\n",
    "    squat[imu_cols] = squat[imu_cols].rolling(window=15, min_periods=15).mean()\n",
    "    squat_sets[i] = squat"
   ]
  },
  {
   "cell_type": "code",
   "execution_count": 40,
   "id": "bbe57503",
   "metadata": {},
   "outputs": [],
   "source": [
    "df_normalized = pd.concat(squat_sets, ignore_index=True)"
   ]
  },
  {
   "cell_type": "code",
   "execution_count": 41,
   "id": "077eb4d7",
   "metadata": {},
   "outputs": [],
   "source": [
    "df_normalized = df_normalized.dropna()"
   ]
  },
  {
   "cell_type": "code",
   "execution_count": 42,
   "id": "d02faffb",
   "metadata": {},
   "outputs": [
    {
     "data": {
      "text/html": [
       "<div>\n",
       "<style scoped>\n",
       "    .dataframe tbody tr th:only-of-type {\n",
       "        vertical-align: middle;\n",
       "    }\n",
       "\n",
       "    .dataframe tbody tr th {\n",
       "        vertical-align: top;\n",
       "    }\n",
       "\n",
       "    .dataframe thead th {\n",
       "        text-align: right;\n",
       "    }\n",
       "</style>\n",
       "<table border=\"1\" class=\"dataframe\">\n",
       "  <thead>\n",
       "    <tr style=\"text-align: right;\">\n",
       "      <th></th>\n",
       "      <th>updown</th>\n",
       "      <th>UWB</th>\n",
       "      <th>vel_x</th>\n",
       "      <th>vel_y</th>\n",
       "      <th>vel_z</th>\n",
       "      <th>accel_x</th>\n",
       "      <th>accel_y</th>\n",
       "      <th>accel_z</th>\n",
       "      <th>gyro_x</th>\n",
       "      <th>gyro_y</th>\n",
       "      <th>gyro_z</th>\n",
       "    </tr>\n",
       "  </thead>\n",
       "  <tbody>\n",
       "    <tr>\n",
       "      <th>14</th>\n",
       "      <td>0</td>\n",
       "      <td>0.591120</td>\n",
       "      <td>0.444669</td>\n",
       "      <td>-0.467373</td>\n",
       "      <td>-0.315034</td>\n",
       "      <td>0.023474</td>\n",
       "      <td>-0.032762</td>\n",
       "      <td>-0.094302</td>\n",
       "      <td>0.133845</td>\n",
       "      <td>0.804320</td>\n",
       "      <td>-0.486455</td>\n",
       "    </tr>\n",
       "    <tr>\n",
       "      <th>15</th>\n",
       "      <td>0</td>\n",
       "      <td>0.573637</td>\n",
       "      <td>0.480935</td>\n",
       "      <td>-0.528851</td>\n",
       "      <td>-0.349580</td>\n",
       "      <td>-0.163544</td>\n",
       "      <td>0.073112</td>\n",
       "      <td>-0.082049</td>\n",
       "      <td>0.149239</td>\n",
       "      <td>0.865470</td>\n",
       "      <td>-0.586657</td>\n",
       "    </tr>\n",
       "    <tr>\n",
       "      <th>16</th>\n",
       "      <td>0</td>\n",
       "      <td>0.567564</td>\n",
       "      <td>0.402824</td>\n",
       "      <td>-0.462519</td>\n",
       "      <td>-0.375447</td>\n",
       "      <td>0.023747</td>\n",
       "      <td>-0.066839</td>\n",
       "      <td>-0.033649</td>\n",
       "      <td>0.073584</td>\n",
       "      <td>0.806644</td>\n",
       "      <td>-0.486584</td>\n",
       "    </tr>\n",
       "    <tr>\n",
       "      <th>17</th>\n",
       "      <td>0</td>\n",
       "      <td>0.549405</td>\n",
       "      <td>0.436299</td>\n",
       "      <td>-0.535916</td>\n",
       "      <td>-0.401144</td>\n",
       "      <td>-0.157985</td>\n",
       "      <td>0.071472</td>\n",
       "      <td>-0.074418</td>\n",
       "      <td>0.248877</td>\n",
       "      <td>0.810755</td>\n",
       "      <td>-0.600475</td>\n",
       "    </tr>\n",
       "    <tr>\n",
       "      <th>18</th>\n",
       "      <td>0</td>\n",
       "      <td>0.542702</td>\n",
       "      <td>0.360260</td>\n",
       "      <td>-0.461036</td>\n",
       "      <td>-0.426632</td>\n",
       "      <td>-0.003370</td>\n",
       "      <td>0.012905</td>\n",
       "      <td>-0.142077</td>\n",
       "      <td>0.133730</td>\n",
       "      <td>0.725031</td>\n",
       "      <td>-0.480376</td>\n",
       "    </tr>\n",
       "  </tbody>\n",
       "</table>\n",
       "</div>"
      ],
      "text/plain": [
       "    updown       UWB     vel_x     vel_y     vel_z   accel_x   accel_y  \\\n",
       "14       0  0.591120  0.444669 -0.467373 -0.315034  0.023474 -0.032762   \n",
       "15       0  0.573637  0.480935 -0.528851 -0.349580 -0.163544  0.073112   \n",
       "16       0  0.567564  0.402824 -0.462519 -0.375447  0.023747 -0.066839   \n",
       "17       0  0.549405  0.436299 -0.535916 -0.401144 -0.157985  0.071472   \n",
       "18       0  0.542702  0.360260 -0.461036 -0.426632 -0.003370  0.012905   \n",
       "\n",
       "     accel_z    gyro_x    gyro_y    gyro_z  \n",
       "14 -0.094302  0.133845  0.804320 -0.486455  \n",
       "15 -0.082049  0.149239  0.865470 -0.586657  \n",
       "16 -0.033649  0.073584  0.806644 -0.486584  \n",
       "17 -0.074418  0.248877  0.810755 -0.600475  \n",
       "18 -0.142077  0.133730  0.725031 -0.480376  "
      ]
     },
     "execution_count": 42,
     "metadata": {},
     "output_type": "execute_result"
    }
   ],
   "source": [
    "df_normalized.head()"
   ]
  },
  {
   "cell_type": "code",
   "execution_count": 43,
   "id": "e2992743",
   "metadata": {},
   "outputs": [],
   "source": [
    "df_normalized.to_csv(\"sim_squat_data.csv\", index=False)"
   ]
  }
 ],
 "metadata": {
  "kernelspec": {
   "display_name": "Python 3",
   "language": "python",
   "name": "python3"
  },
  "language_info": {
   "codemirror_mode": {
    "name": "ipython",
    "version": 3
   },
   "file_extension": ".py",
   "mimetype": "text/x-python",
   "name": "python",
   "nbconvert_exporter": "python",
   "pygments_lexer": "ipython3",
   "version": "3.11.9"
  }
 },
 "nbformat": 4,
 "nbformat_minor": 5
}
