{
 "cells": [
  {
   "cell_type": "code",
   "execution_count": 18,
   "id": "6677ca6b",
   "metadata": {},
   "outputs": [],
   "source": [
    "import seaborn as sns\n",
    "import torch\n",
    "import torch.nn as nn\n",
    "import torch.utils.checkpoint as checkpoint\n",
    "from torchvision import models\n",
    "from timm.models.layers import DropPath, to_2tuple, trunc_normal_\n",
    "import torch.nn.functional as F\n",
    "#from einops import rearrange, repeat\n",
    "#from einops.layers.torch import Rearrange\n",
    "import math\n",
    "import numpy as np\n",
    "import time\n",
    "from torch import einsum\n",
    "import cv2\n",
    "import scipy.misc\n",
    "import utils\n",
    "import tqdm\n",
    "from tqdm import tqdm\n",
    "from sklearn.metrics import confusion_matrix, f1_score, recall_score, precision_score\n",
    "from sklearn.metrics import balanced_accuracy_score\n",
    "import matplotlib.pyplot as plt\n",
    "import pandas as pd"
   ]
  },
  {
   "cell_type": "code",
   "execution_count": 19,
   "id": "c93c2bb5",
   "metadata": {},
   "outputs": [
    {
     "name": "stdout",
     "output_type": "stream",
     "text": [
      "   updown       UWB     vel_x     vel_y     vel_z     accel_x     accel_y  \\\n",
      "0       0  1.711766  0.000000  0.000000  0.000000   11.828938  -47.956334   \n",
      "1       0  1.711567  0.032885 -0.103377  0.085973  161.323707  -58.555513   \n",
      "2       0  1.707675  0.814416 -0.361158 -0.095207 -178.527859  131.141650   \n",
      "3       0  1.706877 -0.014801  0.076857 -0.414512  167.629076 -131.972570   \n",
      "4       0  1.702809  0.778336 -0.387729 -0.164145 -152.167755   50.021166   \n",
      "\n",
      "      accel_z    gyro_x    gyro_y    gyro_z  \n",
      "0   62.560536  0.000000  0.000000  0.000000  \n",
      "1  -18.781445  1.277550  0.196830 -0.315507  \n",
      "2 -121.957382  0.458584  2.095545 -2.194921  \n",
      "3  115.180361 -2.522667  1.956186  0.759899  \n",
      "4   -3.156194  1.050402  2.661206 -2.515833  \n"
     ]
    }
   ],
   "source": [
    "import pandas as pd\n",
    "\n",
    "file_path = \"squat_data.csv\"\n",
    "\n",
    "df = pd.read_csv(file_path)\n",
    "\n",
    "print(df.head())"
   ]
  },
  {
   "cell_type": "code",
   "execution_count": 23,
   "id": "142e844e",
   "metadata": {},
   "outputs": [],
   "source": [
    "df = df.drop(columns=['vel_x', 'vel_y', 'vel_z'])"
   ]
  },
  {
   "cell_type": "code",
   "execution_count": 24,
   "id": "cd1eff44",
   "metadata": {},
   "outputs": [
    {
     "name": "stdout",
     "output_type": "stream",
     "text": [
      "Total squat ends: 3000\n",
      "Set too short: 140\n",
      "Set too short: 140\n",
      "Set too short: 138\n",
      "Set too short: 135\n",
      "Set too short: 139\n",
      "Set too short: 140\n",
      "Set too short: 138\n",
      "Total sets: 2993\n"
     ]
    }
   ],
   "source": [
    "tmp = df['updown'].shift(1).fillna(0)\n",
    "squat_ends = df[(tmp == 1) & (df['updown'] == 0)].index\n",
    "print(f\"Total squat ends: {len(squat_ends)}\")\n",
    "\n",
    "squat_sets = []\n",
    "\n",
    "start_index = 0\n",
    "for end_index in squat_ends:\n",
    "    one_set = df.iloc[start_index:end_index+1]\n",
    "\n",
    "    if len(one_set) > 140:\n",
    "        one_set = one_set.tail(140)\n",
    "        squat_sets.append(one_set)\n",
    "    else:\n",
    "        print(f\"Set too short: {len(one_set)}\")\n",
    "\n",
    "    #squat_sets.append(one_set)\n",
    "    start_index = end_index + 1\n",
    "\n",
    "print(f\"Total sets: {len(squat_sets)}\")"
   ]
  },
  {
   "cell_type": "code",
   "execution_count": null,
   "id": "a01dd01e",
   "metadata": {},
   "outputs": [
    {
     "name": "stdout",
     "output_type": "stream",
     "text": [
      "(71832, 14, 7) (71832,)\n"
     ]
    }
   ],
   "source": [
    "# 한 sample당 15frames (현재 포함 과거 10개, 미래 5개), stride 5\n",
    "X = []\n",
    "y = []\n",
    "for one_set in squat_sets:\n",
    "    for i in range(9, len(one_set)-15, 5):\n",
    "        X.append(one_set.iloc[i-9:i+6, 1:].values)\n",
    "        y.append(one_set.iloc[i]['updown'])\n",
    "\n",
    "X = np.array(X)\n",
    "y = np.array(y)\n",
    "print(X.shape, y.shape)"
   ]
  },
  {
   "cell_type": "code",
   "execution_count": 28,
   "id": "09b3a4be",
   "metadata": {},
   "outputs": [
    {
     "name": "stdout",
     "output_type": "stream",
     "text": [
      "Training set size: 57465\n",
      "Validation set size: 7183\n",
      "Testing set size: 7184\n",
      "(57465, 14, 7)\n",
      "(7183, 14, 7)\n",
      "(7184, 14, 7)\n"
     ]
    }
   ],
   "source": [
    "from sklearn.model_selection import train_test_split\n",
    "\n",
    "X_train, X_test, y_train, y_test = train_test_split(X, y, test_size=0.2, random_state=42)\n",
    "X_val, X_test, y_val, y_test = train_test_split(X_test, y_test, test_size=0.5, random_state=42)\n",
    "\n",
    "print(\"Training set size:\", len(X_train))\n",
    "print(\"Validation set size:\", len(X_val))\n",
    "print(\"Testing set size:\", len(X_test))\n",
    "\n",
    "print(X_train.shape)\n",
    "print(X_val.shape)\n",
    "print(X_test.shape)"
   ]
  },
  {
   "cell_type": "code",
   "execution_count": 29,
   "id": "b8244f3c",
   "metadata": {},
   "outputs": [],
   "source": [
    "train_dataset = torch.utils.data.TensorDataset(torch.tensor(X_train, dtype=torch.float32), torch.tensor(y_train, dtype=torch.long))\n",
    "val_dataset = torch.utils.data.TensorDataset(torch.tensor(X_val, dtype=torch.float32), torch.tensor(y_val, dtype=torch.long))\n",
    "test_dataset = torch.utils.data.TensorDataset(torch.tensor(X_test, dtype=torch.float32), torch.tensor(y_test, dtype=torch.long))\n",
    "\n",
    "train_loader = torch.utils.data.DataLoader(train_dataset, batch_size=32, shuffle=True)\n",
    "val_loader = torch.utils.data.DataLoader(val_dataset, batch_size=32, shuffle=False)\n",
    "test_loader = torch.utils.data.DataLoader(test_dataset, batch_size=32, shuffle=False)"
   ]
  },
  {
   "cell_type": "code",
   "execution_count": null,
   "id": "59b9caa2",
   "metadata": {},
   "outputs": [],
   "source": []
  }
 ],
 "metadata": {
  "kernelspec": {
   "display_name": "Python 3",
   "language": "python",
   "name": "python3"
  },
  "language_info": {
   "codemirror_mode": {
    "name": "ipython",
    "version": 3
   },
   "file_extension": ".py",
   "mimetype": "text/x-python",
   "name": "python",
   "nbconvert_exporter": "python",
   "pygments_lexer": "ipython3",
   "version": "3.11.9"
  }
 },
 "nbformat": 4,
 "nbformat_minor": 5
}
